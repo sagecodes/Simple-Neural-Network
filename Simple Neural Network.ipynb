{
 "cells": [
  {
   "cell_type": "markdown",
   "metadata": {},
   "source": [
    "## Operations"
   ]
  },
  {
   "cell_type": "code",
   "execution_count": 17,
   "metadata": {},
   "outputs": [],
   "source": [
    "class Operation():\n",
    "    def __init__(self,input_nodes=[]):\n",
    "        \n",
    "        self.input_nodes = input_nodes\n",
    "        self.output_nodes = []\n",
    "        \n",
    "        for node in input_nodes:\n",
    "            node.output_nodes.append(self)\n",
    "            \n",
    "        _default_graph.operations.append(self)\n",
    "            \n",
    "    def compute(self):\n",
    "        pass"
   ]
  },
  {
   "cell_type": "code",
   "execution_count": 18,
   "metadata": {},
   "outputs": [],
   "source": [
    "class add(Operation):\n",
    "    \n",
    "    def __init__(self,x,y):\n",
    "        \n",
    "        super().__init__([x,y])\n",
    "        \n",
    "    def compute(self,x_var,y_var):\n",
    "        self.inputs = [x_var, y_var]\n",
    "        return x_var + y_var"
   ]
  },
  {
   "cell_type": "code",
   "execution_count": 19,
   "metadata": {},
   "outputs": [],
   "source": [
    "class multiply(Operation):\n",
    "    \n",
    "    def __init__(self,x,y):\n",
    "        \n",
    "        super().__init__([x,y])\n",
    "        \n",
    "    def compute(self,x_var,y_var):\n",
    "        self.inputs = [x_var, y_var]\n",
    "        return x_var * y_var"
   ]
  },
  {
   "cell_type": "code",
   "execution_count": 20,
   "metadata": {},
   "outputs": [],
   "source": [
    "class matmul(Operation):\n",
    "    \n",
    "    def __init__(self,x,y):\n",
    "        \n",
    "        super().__init__([x,y])\n",
    "        \n",
    "    def compute(self,x_var,y_var):\n",
    "        self.inputs = [x_var, y_var]\n",
    "        return x_var.dot(y_var)"
   ]
  },
  {
   "cell_type": "code",
   "execution_count": 21,
   "metadata": {},
   "outputs": [],
   "source": [
    "class Placeholder():\n",
    "    \n",
    "    def __init__(self):\n",
    "        self.output_nodes = []\n",
    "        _default_graph.placeholders.append(self)"
   ]
  },
  {
   "cell_type": "code",
   "execution_count": 22,
   "metadata": {},
   "outputs": [],
   "source": [
    "class Variable():\n",
    "    \n",
    "    def __init__(self, initial_value=None):\n",
    "        self.value = initial_value\n",
    "        self.output_nodes = []\n",
    "        \n",
    "        _default_graph.variables.append(self)"
   ]
  },
  {
   "cell_type": "code",
   "execution_count": 16,
   "metadata": {},
   "outputs": [],
   "source": [
    "class Graph():\n",
    "    \n",
    "    def __init__(self):\n",
    "        \n",
    "        self.operations = []\n",
    "        self.placeholders =[]\n",
    "        self.variables = []\n",
    "        \n",
    "    def set_as_default(self):\n",
    "        global _default_graph\n",
    "        _default_graph = self"
   ]
  },
  {
   "cell_type": "markdown",
   "metadata": {},
   "source": [
    "z = AX + b\n",
    "\n",
    "A = 10\n",
    "\n",
    "b = 1\n",
    "\n",
    "z = 10x + 1"
   ]
  },
  {
   "cell_type": "code",
   "execution_count": 23,
   "metadata": {},
   "outputs": [],
   "source": [
    "g = Graph()"
   ]
  },
  {
   "cell_type": "code",
   "execution_count": 24,
   "metadata": {},
   "outputs": [],
   "source": [
    "g.set_as_default()"
   ]
  },
  {
   "cell_type": "code",
   "execution_count": 25,
   "metadata": {},
   "outputs": [],
   "source": [
    "A = Variable(10)"
   ]
  },
  {
   "cell_type": "code",
   "execution_count": 31,
   "metadata": {},
   "outputs": [],
   "source": [
    "b = Variable(1)"
   ]
  },
  {
   "cell_type": "code",
   "execution_count": 27,
   "metadata": {},
   "outputs": [],
   "source": [
    "x = Placeholder()"
   ]
  },
  {
   "cell_type": "code",
   "execution_count": 28,
   "metadata": {},
   "outputs": [],
   "source": [
    "y = multiply(A,x)"
   ]
  },
  {
   "cell_type": "code",
   "execution_count": 32,
   "metadata": {},
   "outputs": [],
   "source": [
    "z = add(y,b)"
   ]
  },
  {
   "cell_type": "code",
   "execution_count": null,
   "metadata": {},
   "outputs": [],
   "source": []
  }
 ],
 "metadata": {
  "kernelspec": {
   "display_name": "Python 3",
   "language": "python",
   "name": "python3"
  },
  "language_info": {
   "codemirror_mode": {
    "name": "ipython",
    "version": 3
   },
   "file_extension": ".py",
   "mimetype": "text/x-python",
   "name": "python",
   "nbconvert_exporter": "python",
   "pygments_lexer": "ipython3",
   "version": "3.6.4"
  }
 },
 "nbformat": 4,
 "nbformat_minor": 2
}
